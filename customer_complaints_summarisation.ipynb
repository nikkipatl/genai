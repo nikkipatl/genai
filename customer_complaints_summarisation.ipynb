{
  "cells": [
    {
      "cell_type": "markdown",
      "metadata": {
        "id": "view-in-github",
        "colab_type": "text"
      },
      "source": [
        "<a href=\"https://colab.research.google.com/github/nikkipatl/genai/blob/main/customer_complaints_summarisation.ipynb\" target=\"_parent\"><img src=\"https://colab.research.google.com/assets/colab-badge.svg\" alt=\"Open In Colab\"/></a>"
      ]
    },
    {
      "cell_type": "markdown",
      "source": [
        "# **This notebook explores genAI using the openAI API and fine-tunes a LLM with context from customer complaints data from Plusnet**\n"
      ],
      "metadata": {
        "id": "sDur2MB3k29N"
      }
    },
    {
      "cell_type": "code",
      "execution_count": 1,
      "metadata": {
        "id": "zwFnJsE6vjf8",
        "colab": {
          "base_uri": "https://localhost:8080/"
        },
        "outputId": "8118a8e8-5df1-441b-a82b-2f4d78aea6ff",
        "collapsed": true
      },
      "outputs": [
        {
          "output_type": "stream",
          "name": "stdout",
          "text": [
            "Collecting openai==1.7.2\n",
            "  Downloading openai-1.7.2-py3-none-any.whl.metadata (17 kB)\n",
            "Collecting python-dotenv\n",
            "  Downloading python_dotenv-1.0.1-py3-none-any.whl.metadata (23 kB)\n",
            "Requirement already satisfied: anyio<5,>=3.5.0 in /usr/local/lib/python3.10/dist-packages (from openai==1.7.2) (3.7.1)\n",
            "Requirement already satisfied: distro<2,>=1.7.0 in /usr/lib/python3/dist-packages (from openai==1.7.2) (1.7.0)\n",
            "Collecting httpx<1,>=0.23.0 (from openai==1.7.2)\n",
            "  Downloading httpx-0.27.2-py3-none-any.whl.metadata (7.1 kB)\n",
            "Requirement already satisfied: pydantic<3,>=1.9.0 in /usr/local/lib/python3.10/dist-packages (from openai==1.7.2) (2.9.2)\n",
            "Requirement already satisfied: sniffio in /usr/local/lib/python3.10/dist-packages (from openai==1.7.2) (1.3.1)\n",
            "Requirement already satisfied: tqdm>4 in /usr/local/lib/python3.10/dist-packages (from openai==1.7.2) (4.66.5)\n",
            "Requirement already satisfied: typing-extensions<5,>=4.7 in /usr/local/lib/python3.10/dist-packages (from openai==1.7.2) (4.12.2)\n",
            "Requirement already satisfied: idna>=2.8 in /usr/local/lib/python3.10/dist-packages (from anyio<5,>=3.5.0->openai==1.7.2) (3.10)\n",
            "Requirement already satisfied: exceptiongroup in /usr/local/lib/python3.10/dist-packages (from anyio<5,>=3.5.0->openai==1.7.2) (1.2.2)\n",
            "Requirement already satisfied: certifi in /usr/local/lib/python3.10/dist-packages (from httpx<1,>=0.23.0->openai==1.7.2) (2024.8.30)\n",
            "Collecting httpcore==1.* (from httpx<1,>=0.23.0->openai==1.7.2)\n",
            "  Downloading httpcore-1.0.5-py3-none-any.whl.metadata (20 kB)\n",
            "Collecting h11<0.15,>=0.13 (from httpcore==1.*->httpx<1,>=0.23.0->openai==1.7.2)\n",
            "  Downloading h11-0.14.0-py3-none-any.whl.metadata (8.2 kB)\n",
            "Requirement already satisfied: annotated-types>=0.6.0 in /usr/local/lib/python3.10/dist-packages (from pydantic<3,>=1.9.0->openai==1.7.2) (0.7.0)\n",
            "Requirement already satisfied: pydantic-core==2.23.4 in /usr/local/lib/python3.10/dist-packages (from pydantic<3,>=1.9.0->openai==1.7.2) (2.23.4)\n",
            "Downloading openai-1.7.2-py3-none-any.whl (212 kB)\n",
            "\u001b[2K   \u001b[90m━━━━━━━━━━━━━━━━━━━━━━━━━━━━━━━━━━━━━━━━\u001b[0m \u001b[32m212.1/212.1 kB\u001b[0m \u001b[31m7.0 MB/s\u001b[0m eta \u001b[36m0:00:00\u001b[0m\n",
            "\u001b[?25hDownloading python_dotenv-1.0.1-py3-none-any.whl (19 kB)\n",
            "Downloading httpx-0.27.2-py3-none-any.whl (76 kB)\n",
            "\u001b[2K   \u001b[90m━━━━━━━━━━━━━━━━━━━━━━━━━━━━━━━━━━━━━━━━\u001b[0m \u001b[32m76.4/76.4 kB\u001b[0m \u001b[31m3.7 MB/s\u001b[0m eta \u001b[36m0:00:00\u001b[0m\n",
            "\u001b[?25hDownloading httpcore-1.0.5-py3-none-any.whl (77 kB)\n",
            "\u001b[2K   \u001b[90m━━━━━━━━━━━━━━━━━━━━━━━━━━━━━━━━━━━━━━━━\u001b[0m \u001b[32m77.9/77.9 kB\u001b[0m \u001b[31m3.2 MB/s\u001b[0m eta \u001b[36m0:00:00\u001b[0m\n",
            "\u001b[?25hDownloading h11-0.14.0-py3-none-any.whl (58 kB)\n",
            "\u001b[2K   \u001b[90m━━━━━━━━━━━━━━━━━━━━━━━━━━━━━━━━━━━━━━━━\u001b[0m \u001b[32m58.3/58.3 kB\u001b[0m \u001b[31m3.7 MB/s\u001b[0m eta \u001b[36m0:00:00\u001b[0m\n",
            "\u001b[?25hInstalling collected packages: python-dotenv, h11, httpcore, httpx, openai\n",
            "Successfully installed h11-0.14.0 httpcore-1.0.5 httpx-0.27.2 openai-1.7.2 python-dotenv-1.0.1\n"
          ]
        }
      ],
      "source": [
        "!pip install openai==1.7.2 python-dotenv"
      ]
    },
    {
      "cell_type": "code",
      "source": [
        "import pandas as pd\n",
        "import os, time\n",
        "from openai import OpenAI\n",
        "from dotenv import load_dotenv\n",
        "import json\n",
        "import matplotlib.pyplot as plt\n",
        "\n",
        "print(\"Modules are imported.\")"
      ],
      "metadata": {
        "colab": {
          "base_uri": "https://localhost:8080/"
        },
        "id": "btm-F5XWN910",
        "outputId": "800b1aa6-b546-4625-b83b-52ecb46d8050"
      },
      "execution_count": 2,
      "outputs": [
        {
          "output_type": "stream",
          "name": "stdout",
          "text": [
            "Modules are imported.\n"
          ]
        }
      ]
    },
    {
      "cell_type": "markdown",
      "source": [
        "# Setting up the OpenAI API:\n",
        "\n",
        "### Prepare a .env file to store the OpenAI API key.\n",
        "### Uploading the .env file to our colab environment\n",
        "### Load the API key and setup the API"
      ],
      "metadata": {
        "id": "QWISHecpPN0V"
      }
    },
    {
      "cell_type": "code",
      "source": [
        "load_dotenv('apikey.env.txt')\n",
        "\n",
        "APIKEY = os.getenv('APIKEY')"
      ],
      "metadata": {
        "id": "e83Jc9xYOAsy"
      },
      "execution_count": 5,
      "outputs": []
    },
    {
      "cell_type": "code",
      "source": [
        "client = OpenAI(\n",
        "              api_key = APIKEY,\n",
        "\n",
        ")\n",
        "client"
      ],
      "metadata": {
        "colab": {
          "base_uri": "https://localhost:8080/"
        },
        "id": "98k_Ua4FOAvZ",
        "outputId": "74f7a68c-7436-47d0-cac4-4b8084b4b254"
      },
      "execution_count": 6,
      "outputs": [
        {
          "output_type": "execute_result",
          "data": {
            "text/plain": [
              "<openai.OpenAI at 0x784dc6e9dc60>"
            ]
          },
          "metadata": {},
          "execution_count": 6
        }
      ]
    },
    {
      "cell_type": "markdown",
      "source": [
        "# Task 2 - Prepare the training data"
      ],
      "metadata": {
        "id": "0FVhakTQPVvz"
      }
    },
    {
      "cell_type": "code",
      "source": [
        "training_data = pd.read_csv(\"Customer Complaints.csv\")\n",
        "training_data.head()"
      ],
      "metadata": {
        "id": "vN7v2MDGPTH7",
        "outputId": "0ead57f8-96c2-40cb-f84b-8918b7511a06",
        "colab": {
          "base_uri": "https://localhost:8080/",
          "height": 206
        }
      },
      "execution_count": 10,
      "outputs": [
        {
          "output_type": "execute_result",
          "data": {
            "text/plain": [
              "                                          Complaints  \\\n",
              "0   Unreliable internet! Sick of constant outages...   \n",
              "1   TV signal keeps dropping during crucial momen...   \n",
              "2   Phone line always crackling! Can't hear a thi...   \n",
              "3   Ridiculous prices for such terrible service! ...   \n",
              "4   Internet speed slower than a snail! Can't str...   \n",
              "\n",
              "                                             Details  \n",
              "0  {\"Topic\": \"Internet\", \"Problem\": \"Unreliable s...  \n",
              "1  {\"Topic\": \"TV\", \"Problem\": \"Signal dropout\", \"...  \n",
              "2  {\"Topic\": \"Phone\", \"Problem\": \"Crackling line\"...  \n",
              "3  {\"Topic\": \"Billing\", \"Problem\": \"Overcharged\",...  \n",
              "4  {\"Topic\": \"Internet\", \"Problem\": \"Slow speed\",...  "
            ],
            "text/html": [
              "\n",
              "  <div id=\"df-e720560a-6d7e-4f1e-9a80-cc908184524e\" class=\"colab-df-container\">\n",
              "    <div>\n",
              "<style scoped>\n",
              "    .dataframe tbody tr th:only-of-type {\n",
              "        vertical-align: middle;\n",
              "    }\n",
              "\n",
              "    .dataframe tbody tr th {\n",
              "        vertical-align: top;\n",
              "    }\n",
              "\n",
              "    .dataframe thead th {\n",
              "        text-align: right;\n",
              "    }\n",
              "</style>\n",
              "<table border=\"1\" class=\"dataframe\">\n",
              "  <thead>\n",
              "    <tr style=\"text-align: right;\">\n",
              "      <th></th>\n",
              "      <th>Complaints</th>\n",
              "      <th>Details</th>\n",
              "    </tr>\n",
              "  </thead>\n",
              "  <tbody>\n",
              "    <tr>\n",
              "      <th>0</th>\n",
              "      <td>Unreliable internet! Sick of constant outages...</td>\n",
              "      <td>{\"Topic\": \"Internet\", \"Problem\": \"Unreliable s...</td>\n",
              "    </tr>\n",
              "    <tr>\n",
              "      <th>1</th>\n",
              "      <td>TV signal keeps dropping during crucial momen...</td>\n",
              "      <td>{\"Topic\": \"TV\", \"Problem\": \"Signal dropout\", \"...</td>\n",
              "    </tr>\n",
              "    <tr>\n",
              "      <th>2</th>\n",
              "      <td>Phone line always crackling! Can't hear a thi...</td>\n",
              "      <td>{\"Topic\": \"Phone\", \"Problem\": \"Crackling line\"...</td>\n",
              "    </tr>\n",
              "    <tr>\n",
              "      <th>3</th>\n",
              "      <td>Ridiculous prices for such terrible service! ...</td>\n",
              "      <td>{\"Topic\": \"Billing\", \"Problem\": \"Overcharged\",...</td>\n",
              "    </tr>\n",
              "    <tr>\n",
              "      <th>4</th>\n",
              "      <td>Internet speed slower than a snail! Can't str...</td>\n",
              "      <td>{\"Topic\": \"Internet\", \"Problem\": \"Slow speed\",...</td>\n",
              "    </tr>\n",
              "  </tbody>\n",
              "</table>\n",
              "</div>\n",
              "    <div class=\"colab-df-buttons\">\n",
              "\n",
              "  <div class=\"colab-df-container\">\n",
              "    <button class=\"colab-df-convert\" onclick=\"convertToInteractive('df-e720560a-6d7e-4f1e-9a80-cc908184524e')\"\n",
              "            title=\"Convert this dataframe to an interactive table.\"\n",
              "            style=\"display:none;\">\n",
              "\n",
              "  <svg xmlns=\"http://www.w3.org/2000/svg\" height=\"24px\" viewBox=\"0 -960 960 960\">\n",
              "    <path d=\"M120-120v-720h720v720H120Zm60-500h600v-160H180v160Zm220 220h160v-160H400v160Zm0 220h160v-160H400v160ZM180-400h160v-160H180v160Zm440 0h160v-160H620v160ZM180-180h160v-160H180v160Zm440 0h160v-160H620v160Z\"/>\n",
              "  </svg>\n",
              "    </button>\n",
              "\n",
              "  <style>\n",
              "    .colab-df-container {\n",
              "      display:flex;\n",
              "      gap: 12px;\n",
              "    }\n",
              "\n",
              "    .colab-df-convert {\n",
              "      background-color: #E8F0FE;\n",
              "      border: none;\n",
              "      border-radius: 50%;\n",
              "      cursor: pointer;\n",
              "      display: none;\n",
              "      fill: #1967D2;\n",
              "      height: 32px;\n",
              "      padding: 0 0 0 0;\n",
              "      width: 32px;\n",
              "    }\n",
              "\n",
              "    .colab-df-convert:hover {\n",
              "      background-color: #E2EBFA;\n",
              "      box-shadow: 0px 1px 2px rgba(60, 64, 67, 0.3), 0px 1px 3px 1px rgba(60, 64, 67, 0.15);\n",
              "      fill: #174EA6;\n",
              "    }\n",
              "\n",
              "    .colab-df-buttons div {\n",
              "      margin-bottom: 4px;\n",
              "    }\n",
              "\n",
              "    [theme=dark] .colab-df-convert {\n",
              "      background-color: #3B4455;\n",
              "      fill: #D2E3FC;\n",
              "    }\n",
              "\n",
              "    [theme=dark] .colab-df-convert:hover {\n",
              "      background-color: #434B5C;\n",
              "      box-shadow: 0px 1px 3px 1px rgba(0, 0, 0, 0.15);\n",
              "      filter: drop-shadow(0px 1px 2px rgba(0, 0, 0, 0.3));\n",
              "      fill: #FFFFFF;\n",
              "    }\n",
              "  </style>\n",
              "\n",
              "    <script>\n",
              "      const buttonEl =\n",
              "        document.querySelector('#df-e720560a-6d7e-4f1e-9a80-cc908184524e button.colab-df-convert');\n",
              "      buttonEl.style.display =\n",
              "        google.colab.kernel.accessAllowed ? 'block' : 'none';\n",
              "\n",
              "      async function convertToInteractive(key) {\n",
              "        const element = document.querySelector('#df-e720560a-6d7e-4f1e-9a80-cc908184524e');\n",
              "        const dataTable =\n",
              "          await google.colab.kernel.invokeFunction('convertToInteractive',\n",
              "                                                    [key], {});\n",
              "        if (!dataTable) return;\n",
              "\n",
              "        const docLinkHtml = 'Like what you see? Visit the ' +\n",
              "          '<a target=\"_blank\" href=https://colab.research.google.com/notebooks/data_table.ipynb>data table notebook</a>'\n",
              "          + ' to learn more about interactive tables.';\n",
              "        element.innerHTML = '';\n",
              "        dataTable['output_type'] = 'display_data';\n",
              "        await google.colab.output.renderOutput(dataTable, element);\n",
              "        const docLink = document.createElement('div');\n",
              "        docLink.innerHTML = docLinkHtml;\n",
              "        element.appendChild(docLink);\n",
              "      }\n",
              "    </script>\n",
              "  </div>\n",
              "\n",
              "\n",
              "<div id=\"df-d3b568a9-36ff-4619-a47b-262ee292658f\">\n",
              "  <button class=\"colab-df-quickchart\" onclick=\"quickchart('df-d3b568a9-36ff-4619-a47b-262ee292658f')\"\n",
              "            title=\"Suggest charts\"\n",
              "            style=\"display:none;\">\n",
              "\n",
              "<svg xmlns=\"http://www.w3.org/2000/svg\" height=\"24px\"viewBox=\"0 0 24 24\"\n",
              "     width=\"24px\">\n",
              "    <g>\n",
              "        <path d=\"M19 3H5c-1.1 0-2 .9-2 2v14c0 1.1.9 2 2 2h14c1.1 0 2-.9 2-2V5c0-1.1-.9-2-2-2zM9 17H7v-7h2v7zm4 0h-2V7h2v10zm4 0h-2v-4h2v4z\"/>\n",
              "    </g>\n",
              "</svg>\n",
              "  </button>\n",
              "\n",
              "<style>\n",
              "  .colab-df-quickchart {\n",
              "      --bg-color: #E8F0FE;\n",
              "      --fill-color: #1967D2;\n",
              "      --hover-bg-color: #E2EBFA;\n",
              "      --hover-fill-color: #174EA6;\n",
              "      --disabled-fill-color: #AAA;\n",
              "      --disabled-bg-color: #DDD;\n",
              "  }\n",
              "\n",
              "  [theme=dark] .colab-df-quickchart {\n",
              "      --bg-color: #3B4455;\n",
              "      --fill-color: #D2E3FC;\n",
              "      --hover-bg-color: #434B5C;\n",
              "      --hover-fill-color: #FFFFFF;\n",
              "      --disabled-bg-color: #3B4455;\n",
              "      --disabled-fill-color: #666;\n",
              "  }\n",
              "\n",
              "  .colab-df-quickchart {\n",
              "    background-color: var(--bg-color);\n",
              "    border: none;\n",
              "    border-radius: 50%;\n",
              "    cursor: pointer;\n",
              "    display: none;\n",
              "    fill: var(--fill-color);\n",
              "    height: 32px;\n",
              "    padding: 0;\n",
              "    width: 32px;\n",
              "  }\n",
              "\n",
              "  .colab-df-quickchart:hover {\n",
              "    background-color: var(--hover-bg-color);\n",
              "    box-shadow: 0 1px 2px rgba(60, 64, 67, 0.3), 0 1px 3px 1px rgba(60, 64, 67, 0.15);\n",
              "    fill: var(--button-hover-fill-color);\n",
              "  }\n",
              "\n",
              "  .colab-df-quickchart-complete:disabled,\n",
              "  .colab-df-quickchart-complete:disabled:hover {\n",
              "    background-color: var(--disabled-bg-color);\n",
              "    fill: var(--disabled-fill-color);\n",
              "    box-shadow: none;\n",
              "  }\n",
              "\n",
              "  .colab-df-spinner {\n",
              "    border: 2px solid var(--fill-color);\n",
              "    border-color: transparent;\n",
              "    border-bottom-color: var(--fill-color);\n",
              "    animation:\n",
              "      spin 1s steps(1) infinite;\n",
              "  }\n",
              "\n",
              "  @keyframes spin {\n",
              "    0% {\n",
              "      border-color: transparent;\n",
              "      border-bottom-color: var(--fill-color);\n",
              "      border-left-color: var(--fill-color);\n",
              "    }\n",
              "    20% {\n",
              "      border-color: transparent;\n",
              "      border-left-color: var(--fill-color);\n",
              "      border-top-color: var(--fill-color);\n",
              "    }\n",
              "    30% {\n",
              "      border-color: transparent;\n",
              "      border-left-color: var(--fill-color);\n",
              "      border-top-color: var(--fill-color);\n",
              "      border-right-color: var(--fill-color);\n",
              "    }\n",
              "    40% {\n",
              "      border-color: transparent;\n",
              "      border-right-color: var(--fill-color);\n",
              "      border-top-color: var(--fill-color);\n",
              "    }\n",
              "    60% {\n",
              "      border-color: transparent;\n",
              "      border-right-color: var(--fill-color);\n",
              "    }\n",
              "    80% {\n",
              "      border-color: transparent;\n",
              "      border-right-color: var(--fill-color);\n",
              "      border-bottom-color: var(--fill-color);\n",
              "    }\n",
              "    90% {\n",
              "      border-color: transparent;\n",
              "      border-bottom-color: var(--fill-color);\n",
              "    }\n",
              "  }\n",
              "</style>\n",
              "\n",
              "  <script>\n",
              "    async function quickchart(key) {\n",
              "      const quickchartButtonEl =\n",
              "        document.querySelector('#' + key + ' button');\n",
              "      quickchartButtonEl.disabled = true;  // To prevent multiple clicks.\n",
              "      quickchartButtonEl.classList.add('colab-df-spinner');\n",
              "      try {\n",
              "        const charts = await google.colab.kernel.invokeFunction(\n",
              "            'suggestCharts', [key], {});\n",
              "      } catch (error) {\n",
              "        console.error('Error during call to suggestCharts:', error);\n",
              "      }\n",
              "      quickchartButtonEl.classList.remove('colab-df-spinner');\n",
              "      quickchartButtonEl.classList.add('colab-df-quickchart-complete');\n",
              "    }\n",
              "    (() => {\n",
              "      let quickchartButtonEl =\n",
              "        document.querySelector('#df-d3b568a9-36ff-4619-a47b-262ee292658f button');\n",
              "      quickchartButtonEl.style.display =\n",
              "        google.colab.kernel.accessAllowed ? 'block' : 'none';\n",
              "    })();\n",
              "  </script>\n",
              "</div>\n",
              "\n",
              "    </div>\n",
              "  </div>\n"
            ],
            "application/vnd.google.colaboratory.intrinsic+json": {
              "type": "dataframe",
              "variable_name": "training_data",
              "summary": "{\n  \"name\": \"training_data\",\n  \"rows\": 67,\n  \"fields\": [\n    {\n      \"column\": \"Complaints\",\n      \"properties\": {\n        \"dtype\": \"string\",\n        \"num_unique_values\": 67,\n        \"samples\": [\n          \" Phone plan changed without consent! Unacceptable manipulation. Furious!\",\n          \" Charged for services not used! Unacceptable billing. Furious!\",\n          \" Internet speed slower than a snail! Can't stream or download anything. Frustrating!\"\n        ],\n        \"semantic_type\": \"\",\n        \"description\": \"\"\n      }\n    },\n    {\n      \"column\": \"Details\",\n      \"properties\": {\n        \"dtype\": \"string\",\n        \"num_unique_values\": 55,\n        \"samples\": [\n          \"{\\\"Topic\\\": \\\"Internet\\\", \\\"Problem\\\": \\\"Throttling\\\", \\\"Customer_Dissatisfaction_Index\\\": 85}\",\n          \"{\\\"Topic\\\": \\\"TV\\\", \\\"Problem\\\": \\\"Channels freezing\\\", \\\"Customer_Dissatisfaction_Index\\\": 85}\",\n          \"{\\\"Topic\\\": \\\"TV\\\", \\\"Problem\\\": \\\"Remote malfunction\\\", \\\"Customer_Dissatisfaction_Index\\\": 80}\"\n        ],\n        \"semantic_type\": \"\",\n        \"description\": \"\"\n      }\n    }\n  ]\n}"
            }
          },
          "metadata": {},
          "execution_count": 10
        }
      ]
    },
    {
      "cell_type": "code",
      "source": [
        "def save_as_json(row):\n",
        "\n",
        "  system_content = \"\"\"\n",
        "      Given a customer complaint text, extract and return the following information in json (dict) format:\n",
        "      - Topic: The product/department that the customer has a complaint about.\n",
        "      - Problem: A two or three-word description of what exactly the problem is.\n",
        "      - Customer_Dissatisfaction_Index: is a number between 0 and 100 showing\n",
        "             how angry the customer is about the problem.\n",
        "  \"\"\"\n",
        "\n",
        "  formatted_data = {\n",
        "        \"messages\": [\n",
        "            {\"role\": \"system\", \"content\": system_content},\n",
        "            {\"role\": \"user\", \"content\": row.Complaints},\n",
        "            {\"role\": \"assistant\", \"content\": row.Details}\n",
        "        ]\n",
        "      }\n",
        "\n",
        "  with open(\"training_data.json\", \"a\") as json_file:\n",
        "        json.dump(formatted_data, json_file)\n",
        "        json_file.write(\"\\n\")"
      ],
      "metadata": {
        "id": "K5bf2dXIPTKR"
      },
      "execution_count": 11,
      "outputs": []
    },
    {
      "cell_type": "code",
      "source": [
        "for index, row in training_data.iterrows():\n",
        "  save_as_json(row)"
      ],
      "metadata": {
        "id": "fuMhk6TYSzsm"
      },
      "execution_count": 12,
      "outputs": []
    },
    {
      "cell_type": "markdown",
      "source": [
        "#Task 3 - Fine-tune GPT 3.5 based on our training data"
      ],
      "metadata": {
        "id": "RZ1DuZhFQgAY"
      }
    },
    {
      "cell_type": "code",
      "source": [
        "data_file = client.files.create(\n",
        "    file = open('training_data.json', 'rb'),\n",
        "    purpose = 'fine-tune'\n",
        ")\n",
        "data_file"
      ],
      "metadata": {
        "id": "0CAQj52UUXl0",
        "outputId": "8696c160-123e-4645-b870-1add0283b70f",
        "colab": {
          "base_uri": "https://localhost:8080/"
        }
      },
      "execution_count": 13,
      "outputs": [
        {
          "output_type": "execute_result",
          "data": {
            "text/plain": [
              "FileObject(id='file-xLOQRMMwPKGkfrTAsAszoPOm', bytes=46722, created_at=1727457072, filename='training_data.json', object='file', purpose='fine-tune', status='processed', status_details=None)"
            ]
          },
          "metadata": {},
          "execution_count": 13
        }
      ]
    },
    {
      "cell_type": "code",
      "source": [
        "fine_tuning_job = client.fine_tuning.jobs.create(\n",
        "        training_file = data_file.id,\n",
        "        model = 'gpt-3.5-turbo',\n",
        "        hyperparameters = {\n",
        "            \"n_epochs\": 'auto' #1\n",
        "        }\n",
        ")\n",
        "fine_tuning_job"
      ],
      "metadata": {
        "id": "3CBNorr_UYL3",
        "outputId": "09db187f-b7c3-4f82-c1d4-737f2b87a8df",
        "colab": {
          "base_uri": "https://localhost:8080/"
        }
      },
      "execution_count": 20,
      "outputs": [
        {
          "output_type": "execute_result",
          "data": {
            "text/plain": [
              "FineTuningJob(id='ftjob-KWM6aWiDhK68sWIIAP5X8w28', created_at=1727457535, error=Error(code=None, message=None, param=None), fine_tuned_model=None, finished_at=None, hyperparameters=Hyperparameters(n_epochs='auto', batch_size='auto', learning_rate_multiplier='auto'), model='gpt-3.5-turbo-0125', object='fine_tuning.job', organization_id='org-pqtjgZXBxNF0EIel7TAWHRRU', result_files=[], status='validating_files', trained_tokens=None, training_file='file-xLOQRMMwPKGkfrTAsAszoPOm', validation_file=None, user_provided_suffix=None, seed=773437442, estimated_finish=None, integrations=[])"
            ]
          },
          "metadata": {},
          "execution_count": 20
        }
      ]
    },
    {
      "cell_type": "code",
      "source": [
        "while True:\n",
        "  time.sleep(2)\n",
        "  retrieved_job = client.fine_tuning.jobs.retrieve(fine_tuning_job.id)\n",
        "  status = retrieved_job.status\n",
        "  print(status)\n",
        "\n",
        "  if status==\"succeeded\":\n",
        "    print(\"job done!\")\n",
        "    break"
      ],
      "metadata": {
        "id": "NtX3_-DsUYOw",
        "outputId": "1d95a292-946a-4ee1-8be4-0fbea1a7ff49",
        "colab": {
          "base_uri": "https://localhost:8080/"
        }
      },
      "execution_count": 21,
      "outputs": [
        {
          "output_type": "stream",
          "name": "stdout",
          "text": [
            "validating_files\n",
            "running\n",
            "running\n",
            "running\n",
            "running\n",
            "running\n",
            "running\n",
            "running\n",
            "running\n",
            "running\n",
            "running\n",
            "running\n",
            "running\n",
            "running\n",
            "running\n",
            "running\n",
            "running\n",
            "running\n",
            "running\n",
            "running\n",
            "running\n",
            "running\n",
            "running\n",
            "running\n",
            "running\n",
            "running\n",
            "running\n",
            "running\n",
            "running\n",
            "running\n",
            "running\n",
            "running\n",
            "running\n",
            "running\n",
            "running\n",
            "running\n",
            "running\n",
            "running\n",
            "running\n",
            "running\n",
            "running\n",
            "running\n",
            "running\n",
            "running\n",
            "running\n",
            "running\n",
            "running\n",
            "running\n",
            "running\n",
            "running\n",
            "running\n",
            "running\n",
            "running\n",
            "running\n",
            "running\n",
            "running\n",
            "running\n",
            "running\n",
            "running\n",
            "running\n",
            "running\n",
            "running\n",
            "running\n",
            "running\n",
            "running\n",
            "running\n",
            "running\n",
            "running\n",
            "running\n",
            "running\n",
            "running\n",
            "running\n",
            "running\n",
            "running\n",
            "running\n",
            "running\n",
            "running\n",
            "running\n",
            "running\n",
            "running\n",
            "running\n",
            "running\n",
            "running\n",
            "running\n",
            "running\n",
            "running\n",
            "running\n",
            "running\n",
            "running\n",
            "running\n",
            "running\n",
            "running\n",
            "running\n",
            "running\n",
            "running\n",
            "running\n",
            "running\n",
            "running\n",
            "running\n",
            "running\n",
            "running\n",
            "running\n",
            "running\n",
            "running\n",
            "running\n",
            "running\n",
            "running\n",
            "running\n",
            "running\n",
            "running\n",
            "running\n",
            "running\n",
            "running\n",
            "running\n",
            "running\n",
            "running\n",
            "running\n",
            "running\n",
            "running\n",
            "running\n",
            "running\n",
            "running\n",
            "running\n",
            "running\n",
            "running\n",
            "running\n",
            "running\n",
            "running\n",
            "running\n",
            "running\n",
            "running\n",
            "running\n",
            "running\n",
            "running\n",
            "running\n",
            "running\n",
            "running\n",
            "running\n",
            "running\n",
            "running\n",
            "running\n",
            "running\n",
            "running\n",
            "running\n",
            "running\n",
            "running\n",
            "running\n",
            "running\n",
            "running\n",
            "running\n",
            "running\n",
            "running\n",
            "running\n",
            "running\n",
            "running\n",
            "running\n",
            "running\n",
            "running\n",
            "running\n",
            "running\n",
            "running\n",
            "running\n",
            "running\n",
            "running\n",
            "running\n",
            "running\n",
            "running\n",
            "running\n",
            "running\n",
            "running\n",
            "running\n",
            "running\n",
            "running\n",
            "running\n",
            "running\n",
            "running\n",
            "running\n",
            "running\n",
            "running\n",
            "running\n",
            "running\n",
            "running\n",
            "running\n",
            "running\n",
            "running\n",
            "succeeded\n",
            "job done!\n"
          ]
        }
      ]
    },
    {
      "cell_type": "markdown",
      "source": [
        "# Task 4 - Evaluate model"
      ],
      "metadata": {
        "id": "Y_qDYP6MQjQf"
      }
    },
    {
      "cell_type": "code",
      "source": [
        "events = list(client.fine_tuning.jobs.list_events(fine_tuning_job_id = retrieved_job.id, limit=100).data)\n",
        "\n",
        "for e in events:\n",
        "  print(e.message)"
      ],
      "metadata": {
        "id": "jkrs6ppJdYr9",
        "outputId": "80ddd727-ae01-4146-ab16-aa7a39104c59",
        "colab": {
          "base_uri": "https://localhost:8080/"
        }
      },
      "execution_count": 22,
      "outputs": [
        {
          "output_type": "stream",
          "name": "stdout",
          "text": [
            "The job has successfully completed\n",
            "New fine-tuned model created\n",
            "Checkpoint created at step 134\n",
            "Checkpoint created at step 67\n",
            "Step 201/201: training loss=0.02\n",
            "Step 200/201: training loss=0.38\n",
            "Step 199/201: training loss=0.00\n",
            "Step 198/201: training loss=0.06\n",
            "Step 197/201: training loss=0.00\n",
            "Step 196/201: training loss=0.10\n",
            "Step 195/201: training loss=0.03\n",
            "Step 194/201: training loss=0.03\n",
            "Step 193/201: training loss=0.02\n",
            "Step 192/201: training loss=0.03\n",
            "Step 191/201: training loss=0.10\n",
            "Step 190/201: training loss=0.11\n",
            "Step 189/201: training loss=0.05\n",
            "Step 188/201: training loss=0.00\n",
            "Step 187/201: training loss=0.11\n",
            "Step 186/201: training loss=0.01\n",
            "Step 185/201: training loss=0.03\n",
            "Step 184/201: training loss=0.06\n",
            "Step 183/201: training loss=0.04\n",
            "Step 182/201: training loss=0.10\n",
            "Step 181/201: training loss=0.15\n",
            "Step 180/201: training loss=0.08\n",
            "Step 179/201: training loss=0.15\n",
            "Step 178/201: training loss=0.00\n",
            "Step 177/201: training loss=0.02\n",
            "Step 176/201: training loss=0.00\n",
            "Step 175/201: training loss=0.02\n",
            "Step 174/201: training loss=0.03\n",
            "Step 173/201: training loss=0.03\n",
            "Step 172/201: training loss=0.05\n",
            "Step 171/201: training loss=0.07\n",
            "Step 170/201: training loss=0.00\n",
            "Step 169/201: training loss=0.07\n",
            "Step 168/201: training loss=0.02\n",
            "Step 167/201: training loss=0.14\n",
            "Step 166/201: training loss=0.04\n",
            "Step 165/201: training loss=0.34\n",
            "Step 164/201: training loss=0.15\n",
            "Step 163/201: training loss=0.00\n",
            "Step 162/201: training loss=0.05\n",
            "Step 161/201: training loss=0.04\n",
            "Step 160/201: training loss=0.04\n",
            "Step 159/201: training loss=0.25\n",
            "Step 158/201: training loss=0.11\n",
            "Step 157/201: training loss=0.05\n",
            "Step 156/201: training loss=0.17\n",
            "Step 155/201: training loss=0.02\n",
            "Step 154/201: training loss=0.03\n",
            "Step 153/201: training loss=0.00\n",
            "Step 152/201: training loss=0.05\n",
            "Step 151/201: training loss=0.06\n",
            "Step 150/201: training loss=0.04\n",
            "Step 149/201: training loss=0.11\n",
            "Step 148/201: training loss=0.06\n",
            "Step 147/201: training loss=0.29\n",
            "Step 146/201: training loss=0.00\n",
            "Step 145/201: training loss=0.05\n",
            "Step 144/201: training loss=0.03\n",
            "Step 143/201: training loss=0.06\n",
            "Step 142/201: training loss=0.04\n",
            "Step 141/201: training loss=0.02\n",
            "Step 140/201: training loss=0.08\n",
            "Step 139/201: training loss=0.06\n",
            "Step 138/201: training loss=0.07\n",
            "Step 137/201: training loss=0.03\n",
            "Step 136/201: training loss=0.11\n",
            "Step 135/201: training loss=0.04\n",
            "Step 134/201: training loss=0.06\n",
            "Step 133/201: training loss=0.13\n",
            "Step 132/201: training loss=0.08\n",
            "Step 131/201: training loss=0.11\n",
            "Step 130/201: training loss=0.00\n",
            "Step 129/201: training loss=0.07\n",
            "Step 128/201: training loss=0.10\n",
            "Step 127/201: training loss=0.04\n",
            "Step 126/201: training loss=0.08\n",
            "Step 125/201: training loss=0.09\n",
            "Step 124/201: training loss=0.03\n",
            "Step 123/201: training loss=0.07\n",
            "Step 122/201: training loss=0.10\n",
            "Step 121/201: training loss=0.09\n",
            "Step 120/201: training loss=0.40\n",
            "Step 119/201: training loss=0.06\n",
            "Step 118/201: training loss=0.06\n",
            "Step 117/201: training loss=0.22\n",
            "Step 116/201: training loss=0.04\n",
            "Step 115/201: training loss=0.11\n",
            "Step 114/201: training loss=0.14\n",
            "Step 113/201: training loss=0.00\n",
            "Step 112/201: training loss=0.06\n",
            "Step 111/201: training loss=0.19\n",
            "Step 110/201: training loss=0.06\n",
            "Step 109/201: training loss=0.24\n",
            "Step 108/201: training loss=0.12\n",
            "Step 107/201: training loss=0.08\n",
            "Step 106/201: training loss=0.14\n"
          ]
        }
      ]
    },
    {
      "cell_type": "code",
      "source": [
        "for e in events:\n",
        "  if(e.data):\n",
        "    print(e.data)"
      ],
      "metadata": {
        "collapsed": true,
        "id": "32txOyphhZYJ",
        "outputId": "a6ce4181-22db-446c-ab04-63090457852b",
        "colab": {
          "base_uri": "https://localhost:8080/"
        }
      },
      "execution_count": 25,
      "outputs": [
        {
          "output_type": "stream",
          "name": "stdout",
          "text": [
            "{'step': 201, 'train_loss': 0.019748900085687637, 'total_steps': 201, 'train_mean_token_accuracy': 1.0}\n",
            "{'step': 200, 'train_loss': 0.38330432772636414, 'total_steps': 201, 'train_mean_token_accuracy': 0.9629629850387573}\n",
            "{'step': 199, 'train_loss': 1.4834934063401306e-06, 'total_steps': 201, 'train_mean_token_accuracy': 1.0}\n",
            "{'step': 198, 'train_loss': 0.05621778592467308, 'total_steps': 201, 'train_mean_token_accuracy': 0.9655172228813171}\n",
            "{'step': 197, 'train_loss': 1.554135906189913e-06, 'total_steps': 201, 'train_mean_token_accuracy': 1.0}\n",
            "{'step': 196, 'train_loss': 0.09649968892335892, 'total_steps': 201, 'train_mean_token_accuracy': 0.9629629850387573}\n",
            "{'step': 195, 'train_loss': 0.029049359261989594, 'total_steps': 201, 'train_mean_token_accuracy': 1.0}\n",
            "{'step': 194, 'train_loss': 0.03055352345108986, 'total_steps': 201, 'train_mean_token_accuracy': 1.0}\n",
            "{'step': 193, 'train_loss': 0.015885205939412117, 'total_steps': 201, 'train_mean_token_accuracy': 1.0}\n",
            "{'step': 192, 'train_loss': 0.030510559678077698, 'total_steps': 201, 'train_mean_token_accuracy': 1.0}\n",
            "{'step': 191, 'train_loss': 0.10291742533445358, 'total_steps': 201, 'train_mean_token_accuracy': 0.9629629850387573}\n",
            "{'step': 190, 'train_loss': 0.11491149663925171, 'total_steps': 201, 'train_mean_token_accuracy': 0.9599999785423279}\n",
            "{'step': 189, 'train_loss': 0.05280746519565582, 'total_steps': 201, 'train_mean_token_accuracy': 0.9599999785423279}\n",
            "{'step': 188, 'train_loss': 1.624778519726533e-06, 'total_steps': 201, 'train_mean_token_accuracy': 1.0}\n",
            "{'step': 187, 'train_loss': 0.10985918343067169, 'total_steps': 201, 'train_mean_token_accuracy': 0.9629629850387573}\n",
            "{'step': 186, 'train_loss': 0.012595323845744133, 'total_steps': 201, 'train_mean_token_accuracy': 1.0}\n",
            "{'step': 185, 'train_loss': 0.027205398306250572, 'total_steps': 201, 'train_mean_token_accuracy': 1.0}\n",
            "{'step': 184, 'train_loss': 0.05981201305985451, 'total_steps': 201, 'train_mean_token_accuracy': 0.9599999785423279}\n",
            "{'step': 183, 'train_loss': 0.041963424533605576, 'total_steps': 201, 'train_mean_token_accuracy': 1.0}\n",
            "{'step': 182, 'train_loss': 0.09962818771600723, 'total_steps': 201, 'train_mean_token_accuracy': 0.931034505367279}\n",
            "{'step': 181, 'train_loss': 0.14527934789657593, 'total_steps': 201, 'train_mean_token_accuracy': 0.9259259104728699}\n",
            "{'step': 180, 'train_loss': 0.07913193851709366, 'total_steps': 201, 'train_mean_token_accuracy': 0.9259259104728699}\n",
            "{'step': 179, 'train_loss': 0.14538456499576569, 'total_steps': 201, 'train_mean_token_accuracy': 0.9615384340286255}\n",
            "{'step': 178, 'train_loss': 2.6844165859074565e-06, 'total_steps': 201, 'train_mean_token_accuracy': 1.0}\n",
            "{'step': 177, 'train_loss': 0.01577250100672245, 'total_steps': 201, 'train_mean_token_accuracy': 1.0}\n",
            "{'step': 176, 'train_loss': 0.0001285694306716323, 'total_steps': 201, 'train_mean_token_accuracy': 1.0}\n",
            "{'step': 175, 'train_loss': 0.024536285549402237, 'total_steps': 201, 'train_mean_token_accuracy': 1.0}\n",
            "{'step': 174, 'train_loss': 0.03052918054163456, 'total_steps': 201, 'train_mean_token_accuracy': 1.0}\n",
            "{'step': 173, 'train_loss': 0.026006698608398438, 'total_steps': 201, 'train_mean_token_accuracy': 1.0}\n",
            "{'step': 172, 'train_loss': 0.04900932312011719, 'total_steps': 201, 'train_mean_token_accuracy': 1.0}\n",
            "{'step': 171, 'train_loss': 0.06692511588335037, 'total_steps': 201, 'train_mean_token_accuracy': 0.9629629850387573}\n",
            "{'step': 170, 'train_loss': 3.461484539002413e-06, 'total_steps': 201, 'train_mean_token_accuracy': 1.0}\n",
            "{'step': 169, 'train_loss': 0.06561519205570221, 'total_steps': 201, 'train_mean_token_accuracy': 0.9629629850387573}\n",
            "{'step': 168, 'train_loss': 0.020522842183709145, 'total_steps': 201, 'train_mean_token_accuracy': 1.0}\n",
            "{'step': 167, 'train_loss': 0.14057010412216187, 'total_steps': 201, 'train_mean_token_accuracy': 0.9629629850387573}\n",
            "{'step': 166, 'train_loss': 0.04140167310833931, 'total_steps': 201, 'train_mean_token_accuracy': 0.9666666388511658}\n",
            "{'step': 165, 'train_loss': 0.3431265950202942, 'total_steps': 201, 'train_mean_token_accuracy': 0.9200000166893005}\n",
            "{'step': 164, 'train_loss': 0.14575979113578796, 'total_steps': 201, 'train_mean_token_accuracy': 0.9629629850387573}\n",
            "{'step': 163, 'train_loss': 4.874335445492761e-06, 'total_steps': 201, 'train_mean_token_accuracy': 1.0}\n",
            "{'step': 162, 'train_loss': 0.05205734074115753, 'total_steps': 201, 'train_mean_token_accuracy': 0.9599999785423279}\n",
            "{'step': 161, 'train_loss': 0.035300321877002716, 'total_steps': 201, 'train_mean_token_accuracy': 1.0}\n",
            "{'step': 160, 'train_loss': 0.04383743181824684, 'total_steps': 201, 'train_mean_token_accuracy': 0.9599999785423279}\n",
            "{'step': 159, 'train_loss': 0.25494009256362915, 'total_steps': 201, 'train_mean_token_accuracy': 0.9230769276618958}\n",
            "{'step': 158, 'train_loss': 0.10807286947965622, 'total_steps': 201, 'train_mean_token_accuracy': 0.9615384340286255}\n",
            "{'step': 157, 'train_loss': 0.05135688930749893, 'total_steps': 201, 'train_mean_token_accuracy': 1.0}\n",
            "{'step': 156, 'train_loss': 0.17390701174736023, 'total_steps': 201, 'train_mean_token_accuracy': 0.9200000166893005}\n",
            "{'step': 155, 'train_loss': 0.02215796336531639, 'total_steps': 201, 'train_mean_token_accuracy': 1.0}\n",
            "{'step': 154, 'train_loss': 0.0295706856995821, 'total_steps': 201, 'train_mean_token_accuracy': 1.0}\n",
            "{'step': 153, 'train_loss': 1.6389069060096517e-05, 'total_steps': 201, 'train_mean_token_accuracy': 1.0}\n",
            "{'step': 152, 'train_loss': 0.05156920477747917, 'total_steps': 201, 'train_mean_token_accuracy': 0.9615384340286255}\n",
            "{'step': 151, 'train_loss': 0.05928530916571617, 'total_steps': 201, 'train_mean_token_accuracy': 0.9615384340286255}\n",
            "{'step': 150, 'train_loss': 0.035896074026823044, 'total_steps': 201, 'train_mean_token_accuracy': 1.0}\n",
            "{'step': 149, 'train_loss': 0.11018223315477371, 'total_steps': 201, 'train_mean_token_accuracy': 0.9629629850387573}\n",
            "{'step': 148, 'train_loss': 0.05683693662285805, 'total_steps': 201, 'train_mean_token_accuracy': 0.9615384340286255}\n",
            "{'step': 147, 'train_loss': 0.2926517426967621, 'total_steps': 201, 'train_mean_token_accuracy': 0.9200000166893005}\n",
            "{'step': 146, 'train_loss': 1.992119723581709e-05, 'total_steps': 201, 'train_mean_token_accuracy': 1.0}\n",
            "{'step': 145, 'train_loss': 0.048165664076805115, 'total_steps': 201, 'train_mean_token_accuracy': 0.9599999785423279}\n",
            "{'step': 144, 'train_loss': 0.03137348219752312, 'total_steps': 201, 'train_mean_token_accuracy': 1.0}\n",
            "{'step': 143, 'train_loss': 0.06181379407644272, 'total_steps': 201, 'train_mean_token_accuracy': 0.9615384340286255}\n",
            "{'step': 142, 'train_loss': 0.03688662499189377, 'total_steps': 201, 'train_mean_token_accuracy': 1.0}\n",
            "{'step': 141, 'train_loss': 0.02184242196381092, 'total_steps': 201, 'train_mean_token_accuracy': 1.0}\n",
            "{'step': 140, 'train_loss': 0.08496467769145966, 'total_steps': 201, 'train_mean_token_accuracy': 0.9615384340286255}\n",
            "{'step': 139, 'train_loss': 0.06316287070512772, 'total_steps': 201, 'train_mean_token_accuracy': 0.9642857313156128}\n",
            "{'step': 138, 'train_loss': 0.0722970962524414, 'total_steps': 201, 'train_mean_token_accuracy': 0.9615384340286255}\n",
            "{'step': 137, 'train_loss': 0.03224937617778778, 'total_steps': 201, 'train_mean_token_accuracy': 1.0}\n",
            "{'step': 136, 'train_loss': 0.11195053160190582, 'total_steps': 201, 'train_mean_token_accuracy': 0.9599999785423279}\n",
            "{'step': 135, 'train_loss': 0.044757623225450516, 'total_steps': 201, 'train_mean_token_accuracy': 1.0}\n",
            "{'step': 134, 'train_loss': 0.058258894830942154, 'total_steps': 201, 'train_mean_token_accuracy': 0.9599999785423279}\n",
            "{'step': 133, 'train_loss': 0.1264984905719757, 'total_steps': 201, 'train_mean_token_accuracy': 0.9599999785423279}\n",
            "{'step': 132, 'train_loss': 0.08252386003732681, 'total_steps': 201, 'train_mean_token_accuracy': 0.9615384340286255}\n",
            "{'step': 131, 'train_loss': 0.11465807259082794, 'total_steps': 201, 'train_mean_token_accuracy': 0.9629629850387573}\n",
            "{'step': 130, 'train_loss': 5.4818610806250945e-05, 'total_steps': 201, 'train_mean_token_accuracy': 1.0}\n",
            "{'step': 129, 'train_loss': 0.07325386255979538, 'total_steps': 201, 'train_mean_token_accuracy': 0.9599999785423279}\n",
            "{'step': 128, 'train_loss': 0.10248389840126038, 'total_steps': 201, 'train_mean_token_accuracy': 0.9599999785423279}\n",
            "{'step': 127, 'train_loss': 0.03766455501317978, 'total_steps': 201, 'train_mean_token_accuracy': 0.9629629850387573}\n",
            "{'step': 126, 'train_loss': 0.084456667304039, 'total_steps': 201, 'train_mean_token_accuracy': 0.9615384340286255}\n",
            "{'step': 125, 'train_loss': 0.09234816581010818, 'total_steps': 201, 'train_mean_token_accuracy': 0.9642857313156128}\n",
            "{'step': 124, 'train_loss': 0.0329132080078125, 'total_steps': 201, 'train_mean_token_accuracy': 1.0}\n",
            "{'step': 123, 'train_loss': 0.07100780308246613, 'total_steps': 201, 'train_mean_token_accuracy': 0.9615384340286255}\n",
            "{'step': 122, 'train_loss': 0.09718824177980423, 'total_steps': 201, 'train_mean_token_accuracy': 0.9629629850387573}\n",
            "{'step': 121, 'train_loss': 0.09204009920358658, 'total_steps': 201, 'train_mean_token_accuracy': 0.9259259104728699}\n",
            "{'step': 120, 'train_loss': 0.40437668561935425, 'total_steps': 201, 'train_mean_token_accuracy': 0.8846153616905212}\n",
            "{'step': 119, 'train_loss': 0.0626208484172821, 'total_steps': 201, 'train_mean_token_accuracy': 0.9599999785423279}\n",
            "{'step': 118, 'train_loss': 0.05759773403406143, 'total_steps': 201, 'train_mean_token_accuracy': 0.9599999785423279}\n",
            "{'step': 117, 'train_loss': 0.21950510144233704, 'total_steps': 201, 'train_mean_token_accuracy': 0.8888888955116272}\n",
            "{'step': 116, 'train_loss': 0.037622831761837006, 'total_steps': 201, 'train_mean_token_accuracy': 1.0}\n",
            "{'step': 115, 'train_loss': 0.10631405562162399, 'total_steps': 201, 'train_mean_token_accuracy': 0.9629629850387573}\n",
            "{'step': 114, 'train_loss': 0.13969013094902039, 'total_steps': 201, 'train_mean_token_accuracy': 0.9642857313156128}\n",
            "{'step': 113, 'train_loss': 0.00014728969836141914, 'total_steps': 201, 'train_mean_token_accuracy': 1.0}\n",
            "{'step': 112, 'train_loss': 0.06229705736041069, 'total_steps': 201, 'train_mean_token_accuracy': 0.9599999785423279}\n",
            "{'step': 111, 'train_loss': 0.1878119558095932, 'total_steps': 201, 'train_mean_token_accuracy': 0.9629629850387573}\n",
            "{'step': 110, 'train_loss': 0.064437635242939, 'total_steps': 201, 'train_mean_token_accuracy': 0.9599999785423279}\n",
            "{'step': 109, 'train_loss': 0.24319127202033997, 'total_steps': 201, 'train_mean_token_accuracy': 0.9615384340286255}\n",
            "{'step': 108, 'train_loss': 0.12460026144981384, 'total_steps': 201, 'train_mean_token_accuracy': 0.9615384340286255}\n",
            "{'step': 107, 'train_loss': 0.08200249075889587, 'total_steps': 201, 'train_mean_token_accuracy': 0.9599999785423279}\n",
            "{'step': 106, 'train_loss': 0.13828328251838684, 'total_steps': 201, 'train_mean_token_accuracy': 0.9230769276618958}\n"
          ]
        }
      ]
    },
    {
      "cell_type": "code",
      "source": [
        "steps = []\n",
        "train_loss = []\n",
        "\n",
        "for e in events:\n",
        "  if(e.data):\n",
        "    steps.append(e.data['step'])\n",
        "    train_loss.append(e.data['train_loss'])\n",
        "\n",
        "print(steps)\n",
        "print(train_loss)"
      ],
      "metadata": {
        "id": "hWwWNwaAdY1k",
        "outputId": "0b3341ca-6a79-44ec-8033-9498b34c3dd3",
        "colab": {
          "base_uri": "https://localhost:8080/"
        }
      },
      "execution_count": 23,
      "outputs": [
        {
          "output_type": "stream",
          "name": "stdout",
          "text": [
            "[201, 200, 199, 198, 197, 196, 195, 194, 193, 192, 191, 190, 189, 188, 187, 186, 185, 184, 183, 182, 181, 180, 179, 178, 177, 176, 175, 174, 173, 172, 171, 170, 169, 168, 167, 166, 165, 164, 163, 162, 161, 160, 159, 158, 157, 156, 155, 154, 153, 152, 151, 150, 149, 148, 147, 146, 145, 144, 143, 142, 141, 140, 139, 138, 137, 136, 135, 134, 133, 132, 131, 130, 129, 128, 127, 126, 125, 124, 123, 122, 121, 120, 119, 118, 117, 116, 115, 114, 113, 112, 111, 110, 109, 108, 107, 106]\n",
            "[0.019748900085687637, 0.38330432772636414, 1.4834934063401306e-06, 0.05621778592467308, 1.554135906189913e-06, 0.09649968892335892, 0.029049359261989594, 0.03055352345108986, 0.015885205939412117, 0.030510559678077698, 0.10291742533445358, 0.11491149663925171, 0.05280746519565582, 1.624778519726533e-06, 0.10985918343067169, 0.012595323845744133, 0.027205398306250572, 0.05981201305985451, 0.041963424533605576, 0.09962818771600723, 0.14527934789657593, 0.07913193851709366, 0.14538456499576569, 2.6844165859074565e-06, 0.01577250100672245, 0.0001285694306716323, 0.024536285549402237, 0.03052918054163456, 0.026006698608398438, 0.04900932312011719, 0.06692511588335037, 3.461484539002413e-06, 0.06561519205570221, 0.020522842183709145, 0.14057010412216187, 0.04140167310833931, 0.3431265950202942, 0.14575979113578796, 4.874335445492761e-06, 0.05205734074115753, 0.035300321877002716, 0.04383743181824684, 0.25494009256362915, 0.10807286947965622, 0.05135688930749893, 0.17390701174736023, 0.02215796336531639, 0.0295706856995821, 1.6389069060096517e-05, 0.05156920477747917, 0.05928530916571617, 0.035896074026823044, 0.11018223315477371, 0.05683693662285805, 0.2926517426967621, 1.992119723581709e-05, 0.048165664076805115, 0.03137348219752312, 0.06181379407644272, 0.03688662499189377, 0.02184242196381092, 0.08496467769145966, 0.06316287070512772, 0.0722970962524414, 0.03224937617778778, 0.11195053160190582, 0.044757623225450516, 0.058258894830942154, 0.1264984905719757, 0.08252386003732681, 0.11465807259082794, 5.4818610806250945e-05, 0.07325386255979538, 0.10248389840126038, 0.03766455501317978, 0.084456667304039, 0.09234816581010818, 0.0329132080078125, 0.07100780308246613, 0.09718824177980423, 0.09204009920358658, 0.40437668561935425, 0.0626208484172821, 0.05759773403406143, 0.21950510144233704, 0.037622831761837006, 0.10631405562162399, 0.13969013094902039, 0.00014728969836141914, 0.06229705736041069, 0.1878119558095932, 0.064437635242939, 0.24319127202033997, 0.12460026144981384, 0.08200249075889587, 0.13828328251838684]\n"
          ]
        }
      ]
    },
    {
      "cell_type": "code",
      "source": [
        "plt.plot(steps, train_loss, marker='o', linestyle='--')\n",
        "plt.show() # shows effective learning with hyperparameters = 'auto'"
      ],
      "metadata": {
        "id": "aZny8JGVfnij",
        "outputId": "e3571368-7e8b-4dde-8941-3c58ad6c6bce",
        "colab": {
          "base_uri": "https://localhost:8080/",
          "height": 430
        }
      },
      "execution_count": 24,
      "outputs": [
        {
          "output_type": "display_data",
          "data": {
            "text/plain": [
              "<Figure size 640x480 with 1 Axes>"
            ],
            "image/png": "[encoded data removed]"
          },
          "metadata": {}
        }
      ]
    },
    {
      "cell_type": "code",
      "source": [
        "plt.plot(steps, train_loss, marker='o', linestyle='--')\n",
        "plt.show() # shows ineffective learning with hyperparameters = 1"
      ],
      "metadata": {
        "id": "m3wRd_yifNZj",
        "outputId": "b2789a96-c8ca-47ee-9fbc-c8401c822103",
        "colab": {
          "base_uri": "https://localhost:8080/",
          "height": 430
        }
      },
      "execution_count": 19,
      "outputs": [
        {
          "output_type": "display_data",
          "data": {
            "text/plain": [
              "<Figure size 640x480 with 1 Axes>"
            ],
            "image/png": "[encoded data removed]"
          },
          "metadata": {}
        }
      ]
    },
    {
      "cell_type": "markdown",
      "source": [
        "#Task 5 - Deploy our model"
      ],
      "metadata": {
        "id": "kzFD8YE6QnTx"
      }
    },
    {
      "cell_type": "code",
      "source": [
        "myLLM = retrieved_job.fine_tuned_model"
      ],
      "metadata": {
        "id": "bNNxA-9gQrFZ"
      },
      "execution_count": 26,
      "outputs": []
    },
    {
      "cell_type": "code",
      "source": [
        "def extract_details(user_complaint, model_name):\n",
        "    \"\"\"\n",
        "    This function extracts information from a given user complaint using a specific LLM (Large Language Model).\n",
        "\n",
        "    Parameters:\n",
        "    user_complaint (str): The text of the user's complaint.\n",
        "    model_name (str): The name of the specific LLM model to use for extraction.\n",
        "    \"\"\"\n",
        "\n",
        "    system_content = \"\"\"\n",
        "        Given a customer complaint text, extract and return the following information in JSON (dict) format:\n",
        "        - Topic\n",
        "        - Problem\n",
        "        - Customer_Dissatisfaction_Index\n",
        "    \"\"\"\n",
        "\n",
        "    # Generate a response using the specified model and the user's complaint\n",
        "    response = client.chat.completions.create(\n",
        "        model = model_name,\n",
        "        messages=[\n",
        "            {\"role\": \"system\", \"content\": system_content},  # System content explaining the expected output\n",
        "            {\"role\": \"user\", \"content\": user_complaint}  # User's complaint passed as content\n",
        "        ]\n",
        "    )\n",
        "\n",
        "    # Return the content of the generated response\n",
        "    return response.choices[0].message.content\n"
      ],
      "metadata": {
        "id": "TJ3tVDlhQrMy"
      },
      "execution_count": 30,
      "outputs": []
    },
    {
      "cell_type": "code",
      "source": [
        "complaint = \"TV channels keep disappearing from my subscription! What's going on? Extremely annoyed with this service!\"\n",
        "extract_details(complaint, myLLM)"
      ],
      "metadata": {
        "id": "iROq4S_qQrPb",
        "outputId": "33f326af-6691-4adb-efb6-56a465b549bd",
        "colab": {
          "base_uri": "https://localhost:8080/",
          "height": 35
        }
      },
      "execution_count": 31,
      "outputs": [
        {
          "output_type": "execute_result",
          "data": {
            "text/plain": [
              "'{\"Topic\": \"TV\", \"Problem\": \"Channels missing\", \"Customer_Dissatisfaction_Index\": \"High\"}'"
            ],
            "application/vnd.google.colaboratory.intrinsic+json": {
              "type": "string"
            }
          },
          "metadata": {},
          "execution_count": 31
        }
      ]
    },
    {
      "cell_type": "code",
      "source": [
        "extract_details(complaint, 'gpt-4')"
      ],
      "metadata": {
        "id": "rrqG38yhikM3",
        "outputId": "26dfee1e-ed42-48d2-ef17-2266eeab6c08",
        "colab": {
          "base_uri": "https://localhost:8080/",
          "height": 35
        }
      },
      "execution_count": 32,
      "outputs": [
        {
          "output_type": "execute_result",
          "data": {
            "text/plain": [
              "'{\\n  \"Topic\": \"TV Subscription Service\",\\n  \"Problem\": \"TV channels disappearing from subscription\",\\n  \"Customer_Dissatisfaction_Index\": \"High\"\\n}'"
            ],
            "application/vnd.google.colaboratory.intrinsic+json": {
              "type": "string"
            }
          },
          "metadata": {},
          "execution_count": 32
        }
      ]
    },
    {
      "cell_type": "code",
      "source": [
        "complaint = 'Line is down! It is really annoying!!'\n",
        "extract_details(complaint, myLLM)"
      ],
      "metadata": {
        "id": "mVOUltwZiAQB",
        "outputId": "81767cf8-873b-47bc-fa94-6a64b36d0126",
        "colab": {
          "base_uri": "https://localhost:8080/",
          "height": 35
        }
      },
      "execution_count": 33,
      "outputs": [
        {
          "output_type": "execute_result",
          "data": {
            "text/plain": [
              "'{\"Topic\": \"Internet\", \"Problem\": \"Line down\", \"Customer_Dissatisfaction_Index\": 5}'"
            ],
            "application/vnd.google.colaboratory.intrinsic+json": {
              "type": "string"
            }
          },
          "metadata": {},
          "execution_count": 33
        }
      ]
    },
    {
      "cell_type": "code",
      "source": [
        "extract_details(complaint, 'gpt-4')"
      ],
      "metadata": {
        "id": "6xO8lIRCi1S2",
        "outputId": "8223725e-f867-42ca-ce58-1fbd2ea21289",
        "colab": {
          "base_uri": "https://localhost:8080/",
          "height": 35
        }
      },
      "execution_count": 34,
      "outputs": [
        {
          "output_type": "execute_result",
          "data": {
            "text/plain": [
              "'{\\n  \"Topic\": \"Service Disruption\",\\n  \"Problem\" : \"Line is down\",\\n  \"Customer_Dissatisfaction_Index\" : \"High\"\\n}'"
            ],
            "application/vnd.google.colaboratory.intrinsic+json": {
              "type": "string"
            }
          },
          "metadata": {},
          "execution_count": 34
        }
      ]
    },
    {
      "cell_type": "code",
      "source": [
        "customer_complaint = \"I am very Angry! I want my money back!\"\n",
        "extract_details(customer_complaint, myLLM)"
      ],
      "metadata": {
        "id": "vQSKI5KaiS0O",
        "outputId": "14afe6c6-0faa-45de-868e-8cb57207535f",
        "colab": {
          "base_uri": "https://localhost:8080/",
          "height": 35
        }
      },
      "execution_count": 37,
      "outputs": [
        {
          "output_type": "execute_result",
          "data": {
            "text/plain": [
              "'{\"Topic\": \"Billing\", \"Problem\": \"Refund\", \"Customer_Dissatisfaction_Index\": 5}'"
            ],
            "application/vnd.google.colaboratory.intrinsic+json": {
              "type": "string"
            }
          },
          "metadata": {},
          "execution_count": 37
        }
      ]
    },
    {
      "cell_type": "code",
      "source": [
        "extract_details(customer_complaint, 'gpt-4')"
      ],
      "metadata": {
        "id": "Efoe1rmXjCU-",
        "outputId": "a2c0219c-77f3-440a-9b2b-1da924ae18be",
        "colab": {
          "base_uri": "https://localhost:8080/",
          "height": 35
        }
      },
      "execution_count": 38,
      "outputs": [
        {
          "output_type": "execute_result",
          "data": {
            "text/plain": [
              "'{\\n\"Topic\": \"Refund\",\\n\"Problem\": \"Customer demands a refund\",\\n\"Customer_Dissatisfaction_Index\": \"High\"\\n}'"
            ],
            "application/vnd.google.colaboratory.intrinsic+json": {
              "type": "string"
            }
          },
          "metadata": {},
          "execution_count": 38
        }
      ]
    },
    {
      "cell_type": "code",
      "source": [
        "customer_complaint = \"the internet was very slow today, it is normally fine\"\n",
        "extract_details(customer_complaint, myLLM)"
      ],
      "metadata": {
        "id": "au3eon2IjWVh",
        "outputId": "640f1f03-50fc-4bbe-803e-a632adf4f266",
        "colab": {
          "base_uri": "https://localhost:8080/",
          "height": 35
        }
      },
      "execution_count": 39,
      "outputs": [
        {
          "output_type": "execute_result",
          "data": {
            "text/plain": [
              "'{\"Topic\": \"Internet\", \"Problem\": \"Slow speed\", \"Customer_Dissatisfaction_Index\": 3}'"
            ],
            "application/vnd.google.colaboratory.intrinsic+json": {
              "type": "string"
            }
          },
          "metadata": {},
          "execution_count": 39
        }
      ]
    },
    {
      "cell_type": "code",
      "source": [
        "extract_details(customer_complaint, 'gpt-4')"
      ],
      "metadata": {
        "id": "naG0GbAbjCXN",
        "outputId": "6bfc989f-5664-4bfb-d6f1-da5dcca84782",
        "colab": {
          "base_uri": "https://localhost:8080/",
          "height": 35
        }
      },
      "execution_count": 40,
      "outputs": [
        {
          "output_type": "execute_result",
          "data": {
            "text/plain": [
              "'{\\n\"Topic\": \"Internet\",\\n\"Problem\": \"Internet was very slow today\",\\n\"Customer_Dissatisfaction_Index\": \"Moderate\"\\n}'"
            ],
            "application/vnd.google.colaboratory.intrinsic+json": {
              "type": "string"
            }
          },
          "metadata": {},
          "execution_count": 40
        }
      ]
    },
    {
      "cell_type": "markdown",
      "source": [
        "## my fine-tuned LLM is generally better than the out of the box gpt-4 model\n",
        "## it better captures the customer dissatisfaction index as a score\n",
        "## it also better summarises the customer complaint succinctly and can pick out context like Internet was down vs. service disruption which is vague"
      ],
      "metadata": {
        "id": "ZuPP_AxqkcSV"
      }
    },
    {
      "cell_type": "code",
      "source": [],
      "metadata": {
        "id": "3OCbIB0jka_0"
      },
      "execution_count": null,
      "outputs": []
    }
  ],
  "metadata": {
    "colab": {
      "name": "Welcome to Colaboratory",
      "provenance": [],
      "toc_visible": true,
      "include_colab_link": true
    },
    "kernelspec": {
      "display_name": "Python 3",
      "name": "python3"
    }
  },
  "nbformat": 4,
  "nbformat_minor": 0
}